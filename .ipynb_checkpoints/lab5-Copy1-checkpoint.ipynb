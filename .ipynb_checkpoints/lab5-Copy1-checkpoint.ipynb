{
 "cells": [
  {
   "cell_type": "markdown",
   "metadata": {},
   "source": [
    "# Lab5 - Conditional Sequence-to-sequence VAE"
   ]
  },
  {
   "cell_type": "code",
   "execution_count": null,
   "metadata": {},
   "outputs": [],
   "source": [
    "import string\n",
    "import random\n",
    "import numpy as np\n",
    "import torch\n",
    "import torch.nn as nn\n",
    "import torch.nn.functional as F\n",
    "from torch import optim\n",
    "import matplotlib.pyplot as plt\n",
    "from tqdm import trange\n",
    "from nltk.translate.bleu_score import SmoothingFunction, sentence_bleu\n",
    "\n",
    "%matplotlib inline\n",
    "\n",
    "device = torch.device('cuda' if torch.cuda.is_available() else 'cpu')"
   ]
  },
  {
   "cell_type": "code",
   "execution_count": 250,
   "metadata": {},
   "outputs": [],
   "source": [
    "# Compute BLEU-4 score\n",
    "def compute_bleu(output, reference):\n",
    "    cc = SmoothingFunction()\n",
    "    if len(reference) == 3:\n",
    "        weights = (0.33, 0.33, 0.33)\n",
    "    else:\n",
    "        weights = (0.25, 0.25, 0.25, 0.25)\n",
    "    return sentence_bleu([reference], output, weights=weights, smoothing_function=cc.method1)\n",
    "\n",
    "# Compute Gaussian score\n",
    "def Gaussian_score(words):\n",
    "    words_list = []\n",
    "    score = 0\n",
    "    yourpath = ''#should be your directory of train.txt\n",
    "    with open(yourpath,'r') as fp:\n",
    "        for line in fp:\n",
    "            word = line.split(' ')\n",
    "            word[3] = word[3].strip('\\n')\n",
    "            words_list.extend([word])\n",
    "        for t in words:\n",
    "            for i in words_list:\n",
    "                if t == i:\n",
    "                    score += 1\n",
    "    return score/len(words)"
   ]
  },
  {
   "cell_type": "code",
   "execution_count": 272,
   "metadata": {},
   "outputs": [],
   "source": [
    "# Define characteristic to vector dictionary for embedding\n",
    "SOS_token = 0\n",
    "EOS_token = 1\n",
    "ch_to_ix = {ch: i+2 for i, ch in enumerate(string.ascii_lowercase)}\n",
    "ix_to_ch = {i+2: ch for i, ch in enumerate(string.ascii_lowercase)}\n",
    "\n",
    "# Define condition to dictionary\n",
    "conditions = ['sp', 'tp', 'pg', 'p']\n",
    "cond_to_ix = {conditions[i]: i for i in range(len(conditions))}\n",
    "\n",
    "# Load the datasets\n",
    "def load_data(filename):\n",
    "    data = []\n",
    "    with open(filename, 'r') as f:\n",
    "        for line in f.readlines():\n",
    "            data.append(line.rstrip().split(' '))\n",
    "    return data\n",
    "\n",
    "\n",
    "train_data = load_data('./data/train.txt')\n",
    "train_cond = ['sp', 'tp', 'pg', 'p']\n",
    "\n",
    "test_data = load_data('./data/test.txt')\n",
    "test_cond = [\n",
    "    ['sp', 'p'],\n",
    "    ['sp', 'pg'],\n",
    "    ['sp', 'tp'],\n",
    "    ['sp', 'tp'],\n",
    "    ['p', 'tp'],\n",
    "    ['sp', 'pg'],\n",
    "    ['p', 'sp'],\n",
    "    ['pg', 'sp'],\n",
    "    ['pg', 'p'],\n",
    "    ['pg', 'tp'],\n",
    "] # Given"
   ]
  },
  {
   "cell_type": "code",
   "execution_count": 252,
   "metadata": {},
   "outputs": [],
   "source": [
    "class EncoderRNN(nn.Module):\n",
    "    def __init__(self, input_size, hidden_size, latent_size, num_conds, cond_size):\n",
    "        super(EncoderRNN, self).__init__()\n",
    "        \n",
    "        self.hidden_size = hidden_size\n",
    "        self.latent_size = latent_size\n",
    "        self.cond_size = cond_size\n",
    "        \n",
    "        # Embedding the input\n",
    "        self.word_embedding = nn.Embedding(input_size, hidden_size)\n",
    "        self.cond_embedding = nn.Embedding(num_conds, cond_size)\n",
    "        \n",
    "        # LSTM\n",
    "        self.lstm = nn.LSTM(hidden_size, hidden_size)\n",
    "        \n",
    "        # Fully connected layer to generate mean and var for hidden and cell\n",
    "        self.hidden_mean = nn.Linear(hidden_size, latent_size)\n",
    "        self.hidden_logvar = nn.Linear(hidden_size, latent_size)\n",
    "        self.cell_mean = nn.Linear(hidden_size, latent_size)\n",
    "        self.cell_logvar = nn.Linear(hidden_size, latent_size)\n",
    "        \n",
    "    def forward(self, input, condition, hidden):\n",
    "        condition = self.cond_embedding(condition).view(1, 1, -1)\n",
    "        hidden = (torch.cat((hidden[0], condition), dim=2), torch.cat((hidden[1], condition), dim=2))\n",
    "        output = self.word_embedding(input).view(input.size(0), 1, -1)\n",
    "        output, hidden = self.lstm(output, hidden)\n",
    "        \n",
    "        mean = (self.hidden_mean(hidden[0]), self.cell_mean(hidden[1]))\n",
    "        logvar = (self.hidden_logvar(hidden[0]), self.cell_logvar(hidden[1]))\n",
    "        \n",
    "        # Reparameterize\n",
    "        std = (torch.exp(logvar[0]), torch.exp(logvar[1]))\n",
    "        eps = (torch.rand_like(std[0]), torch.rand_like(std[1]))\n",
    "        latent = (mean[0]+eps[0]*std[0], mean[1]+eps[1]*std[1])\n",
    "        \n",
    "        return latent, mean, logvar\n",
    "        \n",
    "    def init_hidden(self):\n",
    "        return (torch.zeros(1, 1, self.hidden_size-self.cond_size, device=device),\n",
    "                torch.zeros(1, 1, self.hidden_size-self.cond_size, device=device))\n",
    "    \n",
    "    def condition_embedding(self, condition):\n",
    "        return self.cond_embedding(condition)\n",
    "    \n",
    "    \n",
    "class DecoderRNN(nn.Module):\n",
    "    def __init__(self, hidden_size, output_size):\n",
    "        super(DecoderRNN, self).__init__()\n",
    "        \n",
    "        self.hidden_size = hidden_size\n",
    "        self.output_size = output_size\n",
    "        \n",
    "        self.embedding = nn.Embedding(output_size, hidden_size)\n",
    "        \n",
    "        self.lstm = nn.LSTM(hidden_size, hidden_size)\n",
    "        \n",
    "        self.out = nn.Linear(hidden_size, output_size)\n",
    "        self.softmax = nn.LogSoftmax(dim=1)\n",
    "        \n",
    "    def forward(self, input, hidden):\n",
    "        output = self.embedding(input).view(1, 1, -1)\n",
    "        output = F.relu(output)\n",
    "        output, hidden = self.lstm(output, hidden)\n",
    "        output = self.softmax(self.out(output[0]))\n",
    "        return output, hidden\n",
    "    \n",
    "    def init_hidden(self):\n",
    "        return (torch.zeros(1, 1, self.hidden_size, device=device),\n",
    "                torch.zeros(1, 1, self.hidden_size, device=device))"
   ]
  },
  {
   "cell_type": "code",
   "execution_count": 303,
   "metadata": {},
   "outputs": [],
   "source": [
    "def decode(decoder, hidden, target_tensor, teacher_forcing):\n",
    "    decoder_input = torch.tensor([[SOS_token]], device=device)\n",
    "    decoder_hidden = hidden\n",
    "    \n",
    "    target_length = target_tensor.size(0)\n",
    "    \n",
    "    outputs = []\n",
    "    if teacher_forcing:\n",
    "        for di in range(target_length):\n",
    "            decoder_output, decoder_hidden = decoder(decoder_input, decoder_hidden)\n",
    "            outputs.append(decoder_output)\n",
    "            decoder_input = target_tensor[di]\n",
    "    else:\n",
    "        for di in range(target_length):\n",
    "            decoder_output, decoder_hidden = decoder(decoder_input, decoder_hidden)\n",
    "            outputs.append(decoder_output)\n",
    "            topv, topi = decoder_output.topk(1)\n",
    "            decoder_input = topi.squeeze().detach()\n",
    "            \n",
    "            if decoder_input.item() == EOS_token:\n",
    "                break\n",
    "                \n",
    "    outputs = torch.cat(outputs, dim=0)\n",
    "    return outputs\n",
    "    \n",
    "\n",
    "def train_pair(input_data_tensor, input_cond_tensor, target_data_tensor, target_cond_tensor,\n",
    "               encoder, encoder_optimizer, decoder, decoder_optimizer, kl_weight,\n",
    "               criterion, teacher_forcing_ratio=0.5, max_length=MAX_LENGTH):\n",
    "    \n",
    "    encoder_hidden = encoder.init_hidden()\n",
    "    \n",
    "    encoder_optimizer.zero_grad()\n",
    "    decoder_optimizer.zero_grad()\n",
    "    \n",
    "    input_length = input_data_tensor.size(0)\n",
    "    target_length = target_data_tensor.size(0)\n",
    "    \n",
    "    encoder_outputs = torch.zeros(max_length, encoder.hidden_size, device=device)\n",
    "    \n",
    "    loss = 0\n",
    "    \n",
    "    #----------sequence to sequence part for encoder----------#\n",
    "    latent, mean, logvar = encoder(input_data_tensor, input_cond_tensor, encoder_hidden)\n",
    "    \n",
    "    #----------sequence to sequence part for decoder----------#\n",
    "    use_teacher_forcing = True if random.random() < teacher_forcing_ratio else False\n",
    "    \n",
    "    decoder_cond = encoder.condition_embedding(target_cond_tensor).view(1, 1, -1)\n",
    "    decoder_hidden = (torch.cat((latent[0], decoder_cond), dim=2), torch.cat((latent[1], decoder_cond), dim=2))\n",
    "    output = decode(decoder, decoder_hidden, target_data_tensor, teacher_forcing=use_teacher_forcing)\n",
    "    \n",
    "    crossEntropy_loss = criterion(output, target_data_tensor[:output.size(0)].view(-1))\n",
    "    kl_loss = torch.sum(0.5*(-logvar[0]+(mean[0]**2)+torch.exp(logvar[0])-1)) + torch.sum(0.5*(-logvar[1]+(mean[1]**2)+torch.exp(logvar[1])-1))\n",
    "    (crossEntropy_loss+kl_weight*kl_loss).backward()\n",
    "    \n",
    "    encoder_optimizer.step()\n",
    "    decoder_optimizer.step()\n",
    "    \n",
    "    return crossEntropy_loss.item(), kl_loss.item()\n",
    "    \n",
    "    \n",
    "def predict(input_data_tensor, input_cond_tensor, target_data_tensor, target_cond_tensor, \n",
    "            encoder, decoder, criterion, max_length=MAX_LENGTH):\n",
    "    \n",
    "    encoder_hidden = encoder.init_hidden()\n",
    "    input_data_length = input_data_tensor.size(0)\n",
    "    \n",
    "    encoder_outputs = torch.zeros(max_length, encoder.hidden_size, device=device)\n",
    "    \n",
    "    with torch.no_grad():\n",
    "        \n",
    "        latent, mean, logvar = encoder(input_data_tensor, input_cond_tensor, encoder_hidden)\n",
    "        decoder_input = torch.tensor([[SOS_token]], device=device)\n",
    "        decoder_cond = encoder.cond_embedding(target_cond_tensor).view(1, 1, -1)\n",
    "        decoder_hidden = (torch.cat((latent[0], decoder_cond), dim=2), torch.cat((latent[1], decoder_cond), dim=2))\n",
    "        \n",
    "        crossEntropy_loss = 0\n",
    "        kl_loss = torch.sum(0.5*(-logvar[0]+(mean[0]**2)+torch.exp(logvar[0])-1)) + torch.sum(0.5*(-logvar[1]+(mean[1]**2)+torch.exp(logvar[1])-1))\n",
    "        \n",
    "        pred = ''\n",
    "        for di in range(target_data_tensor.size(0)):\n",
    "            decoder_output, decoder_hidden = decoder(decoder_input, decoder_hidden)\n",
    "            topv, topi = decoder_output.topk(1)\n",
    "            decoder_input = topi.squeeze().detach()\n",
    "            \n",
    "            crossEntropy_loss += criterion(decoder_output, target_data_tensor[di])\n",
    "            if decoder_input == EOS_token:\n",
    "                break\n",
    "            \n",
    "            pred += ix_to_ch[decoder_input.item()]\n",
    "    \n",
    "    return pred, crossEntropy_loss, kl_loss\n",
    "    \n",
    "\n",
    "def train_data_combination(n=4):\n",
    "    for i in range(n):\n",
    "        for j in range(i+1, n):\n",
    "            yield (i, j)\n",
    "            yield (j, i)\n",
    "            \n",
    "\n",
    "def get_kl_anealing_func(method, slope=0.0002, max_val=1, period=None):\n",
    "    if method == 'monotonic':\n",
    "        return lambda iteration: min(iteration*slope, max_val)\n",
    "    elif method == 'cyclical' and period:\n",
    "        return lambda iteration: min((iteration%period)*slope, max_val)\n",
    "    else:\n",
    "        return None\n",
    "    \n",
    "\n",
    "def train(encoder, decoder, train_dataset, train_condition, test_dataset, test_condition,\n",
    "          kl_anealing_func, teacher_forcing_ratio, num_epochs=20, learning_rate=1e-02):\n",
    "    \n",
    "    encoder_optimizer = optim.SGD(encoder.parameters(), lr=learning_rate)\n",
    "    decoder_optimizer = optim.SGD(decoder.parameters(), lr=learning_rate)\n",
    "    \n",
    "    criterion = nn.CrossEntropyLoss()\n",
    "    \n",
    "    train_result_list = {'cross_entropy': [], 'kl': []}\n",
    "    test_result_list = {'cross_entropy': [], 'kl': [], 'score': []}\n",
    "    iteration = 0\n",
    "    for epoch in range(num_epochs):\n",
    "\n",
    "        # Train\n",
    "        encoder.train()\n",
    "        decoder.train()\n",
    "        \n",
    "        shuffled_idx = np.random.permutation(len(train_dataset))\n",
    "        train_loss = {'cross_entropy': 0, 'kl': 0}\n",
    "        for i in trange(len(train_dataset)):\n",
    "            data = train_dataset[shuffled_idx[i]]\n",
    "            cond = train_condition\n",
    "            for a, b in train_data_combination(4):\n",
    "                input_data_tensor = torch.tensor([ch_to_ix[ch] for ch in data[a]], device=device).view(-1, 1)\n",
    "                input_cond_tensor = torch.tensor(cond_to_ix[train_cond[a]], device=device)\n",
    "                target_data_tensor = torch.tensor([ch_to_ix[ch] for ch in data[b]]+[EOS_token], device=device).view(-1, 1)\n",
    "                target_cond_tensor = torch.tensor(cond_to_ix[train_cond[b]], device=device)\n",
    "                loss = train_pair(input_data_tensor, input_cond_tensor, target_data_tensor, target_cond_tensor,\n",
    "                           encoder, encoder_optimizer, decoder, decoder_optimizer, kl_anealing_func(iteration),\n",
    "                           criterion, teacher_forcing_ratio)\n",
    "                train_loss['cross_entropy'] += loss[0]\n",
    "                train_loss['kl'] += loss[1]\n",
    "                \n",
    "        train_loss['cross_entropy'] /= (len(train_dataset)*12)\n",
    "        train_loss['kl'] /= (len(train_dataset)*12)\n",
    "        train_result_list['cross_entropy'].append(train_loss['cross_entropy'])\n",
    "        train_result_list['kl'].append(train_loss['kl'])\n",
    "                \n",
    "        # Test\n",
    "        encoder.eval()\n",
    "        decoder.eval()\n",
    "        \n",
    "        test_loss = {'cross_entropy': 0, 'kl': 0}\n",
    "        test_score = 0\n",
    "        for i in trange(len(test_dataset)):\n",
    "            input_data_tensor = torch.tensor([ch_to_ix[ch] for ch in test_dataset[i][0]], device=device).view(-1, 1)\n",
    "            input_cond_tensor = torch.tensor(cond_to_ix[test_condition[i][0]], device=device)\n",
    "            target_data_tensor = torch.tensor([ch_to_ix[ch] for ch in test_dataset[i][1]], device=device).view(-1, 1)\n",
    "            target_cond_tensor = torch.tensor(cond_to_ix[test_condition[i][1]], device=device)\n",
    "            pred, crossEntropy_loss, kl_loss = predict(input_data_tensor, input_cond_tensor, target_data_tensor, target_cond_tensor, encoder, decoder, criterion)\n",
    "            test_loss['cross_entropy'] += crossEntropy_loss\n",
    "            test_loss['kl'] += kl_loss\n",
    "            score = compute_bleu(pred, test_dataset[i][1])\n",
    "            test_score += score\n",
    "        \n",
    "        test_loss['cross_entropy'] /= len(test_dataset)\n",
    "        test_loss['kl'] /= len(test_dataset)\n",
    "        test_result_list['cross_entropy'].append(test_loss['cross_entropy'])\n",
    "        test_result_list['kl'].append(test_loss['kl'])\n",
    "        test_score /= len(test_dataset)\n",
    "        test_result_list['score'].append(test_score)\n",
    "        \n",
    "        # Print the result\n",
    "        print('=====================================================')\n",
    "        print('Epoch: {} / {}'.format(epoch+1, num_epochs))\n",
    "        print()\n",
    "        print('Train Cross Entropy Loss: {}'.format(train_loss['cross_entropy']))\n",
    "        print('Train KL Loss: {}'.format(train_loss['kl']))\n",
    "        print()\n",
    "        print('Test Cross Entropy Loss: {}'.format(test_loss['cross_entropy']))\n",
    "        print('Test KL Loss: {}'.format(test_loss['kl']))\n",
    "        print('Test BLEU-4 Score: {}'.format(test_score))\n",
    "        print()\n",
    "        print()\n",
    "         \n",
    "    return encoder, decoder, train_result_list, test_result_list\n",
    "\n",
    "\n",
    "def evaluate(test_dataset, test_condition, encoder, decoder, max_length=MAX_LENGTH):\n",
    "    \n",
    "    score = 0\n",
    "    for i in range(len(test_dataset)):\n",
    "        input_data_tensor = torch.tensor([ch_to_ix[ch] for ch in test_dataset[i][0]], device=device).view(-1, 1)\n",
    "        input_cond_tensor = torch.tensor(cond_to_ix[test_condition[i][0]], device=device)\n",
    "        target_cond_tensor = torch.tensor(cond_to_ix[test_condition[i][1]], device=device)\n",
    "        pred, _, _ = predict(input_data_tensor, input_cond_tensor, target_cond_tensor, encoder, decoder, criterion)\n",
    "        score += compute_bleu(pred, test_dataset[i][1])\n",
    "        \n",
    "        print('Input:      {}'.format(test_dataset[i][0]))\n",
    "        print('Target:     {}'.format(test_dataset[i][1]))\n",
    "        print('Prediction: {}'.format(pred))\n",
    "        print()\n",
    "    print('Average BLEU-4 Score: {}'.format(score/len(test_dataset)))"
   ]
  },
  {
   "cell_type": "code",
   "execution_count": 304,
   "metadata": {
    "scrolled": false
   },
   "outputs": [
    {
     "name": "stderr",
     "output_type": "stream",
     "text": [
      "100%|██████████| 1227/1227 [01:46<00:00, 11.54it/s]\n",
      "100%|██████████| 10/10 [00:00<00:00, 314.79it/s]\n",
      "  0%|          | 2/1227 [00:00<01:46, 11.51it/s]"
     ]
    },
    {
     "name": "stdout",
     "output_type": "stream",
     "text": [
      "=====================================================\n",
      "Epoch: 1 / 20\n",
      "\n",
      "Train Cross Entropy Loss: 2.462446068711852\n",
      "Train KL Loss: 11.214384735003012\n",
      "\n",
      "Test Cross Entropy Loss: 18.18549156188965\n",
      "Test KL Loss: 30.19793128967285\n",
      "Test BLEU-4 Score: 0.08493680568819126\n",
      "\n",
      "\n"
     ]
    },
    {
     "name": "stderr",
     "output_type": "stream",
     "text": [
      "100%|██████████| 1227/1227 [01:48<00:00, 11.26it/s]\n",
      "100%|██████████| 10/10 [00:00<00:00, 318.99it/s]\n",
      "  0%|          | 2/1227 [00:00<01:51, 10.95it/s]"
     ]
    },
    {
     "name": "stdout",
     "output_type": "stream",
     "text": [
      "=====================================================\n",
      "Epoch: 2 / 20\n",
      "\n",
      "Train Cross Entropy Loss: 1.3855168320819498\n",
      "Train KL Loss: 213.01051755011065\n",
      "\n",
      "Test Cross Entropy Loss: 13.043105125427246\n",
      "Test KL Loss: 316.6459045410156\n",
      "Test BLEU-4 Score: 0.3429250827318838\n",
      "\n",
      "\n"
     ]
    },
    {
     "name": "stderr",
     "output_type": "stream",
     "text": [
      "100%|██████████| 1227/1227 [01:49<00:00, 11.19it/s]\n",
      "100%|██████████| 10/10 [00:00<00:00, 310.94it/s]\n",
      "  0%|          | 1/1227 [00:00<02:18,  8.87it/s]"
     ]
    },
    {
     "name": "stdout",
     "output_type": "stream",
     "text": [
      "=====================================================\n",
      "Epoch: 3 / 20\n",
      "\n",
      "Train Cross Entropy Loss: 0.6014500801764981\n",
      "Train KL Loss: 602.4678061709913\n",
      "\n",
      "Test Cross Entropy Loss: 14.183337211608887\n",
      "Test KL Loss: 463.46533203125\n",
      "Test BLEU-4 Score: 0.4472290074534344\n",
      "\n",
      "\n"
     ]
    },
    {
     "name": "stderr",
     "output_type": "stream",
     "text": [
      "100%|██████████| 1227/1227 [01:49<00:00, 11.19it/s]\n",
      "100%|██████████| 10/10 [00:00<00:00, 318.83it/s]\n",
      "  0%|          | 2/1227 [00:00<01:37, 12.52it/s]"
     ]
    },
    {
     "name": "stdout",
     "output_type": "stream",
     "text": [
      "=====================================================\n",
      "Epoch: 4 / 20\n",
      "\n",
      "Train Cross Entropy Loss: 0.3546339072906573\n",
      "Train KL Loss: 828.5584255281722\n",
      "\n",
      "Test Cross Entropy Loss: 10.779562950134277\n",
      "Test KL Loss: 691.6397705078125\n",
      "Test BLEU-4 Score: 0.5384674785498881\n",
      "\n",
      "\n"
     ]
    },
    {
     "name": "stderr",
     "output_type": "stream",
     "text": [
      "100%|██████████| 1227/1227 [01:49<00:00, 11.23it/s]\n",
      "100%|██████████| 10/10 [00:00<00:00, 319.17it/s]\n",
      "  0%|          | 1/1227 [00:00<02:15,  9.08it/s]"
     ]
    },
    {
     "name": "stdout",
     "output_type": "stream",
     "text": [
      "=====================================================\n",
      "Epoch: 5 / 20\n",
      "\n",
      "Train Cross Entropy Loss: 0.24876663413290814\n",
      "Train KL Loss: 834.0137449278517\n",
      "\n",
      "Test Cross Entropy Loss: 10.010360717773438\n",
      "Test KL Loss: 547.755615234375\n",
      "Test BLEU-4 Score: 0.5728698579428457\n",
      "\n",
      "\n"
     ]
    },
    {
     "name": "stderr",
     "output_type": "stream",
     "text": [
      "100%|██████████| 1227/1227 [01:50<00:00, 11.08it/s]\n",
      "100%|██████████| 10/10 [00:00<00:00, 307.12it/s]\n",
      "  0%|          | 2/1227 [00:00<01:54, 10.69it/s]"
     ]
    },
    {
     "name": "stdout",
     "output_type": "stream",
     "text": [
      "=====================================================\n",
      "Epoch: 6 / 20\n",
      "\n",
      "Train Cross Entropy Loss: 0.1801897021812174\n",
      "Train KL Loss: 738.1533242816091\n",
      "\n",
      "Test Cross Entropy Loss: 5.342304706573486\n",
      "Test KL Loss: 567.3821411132812\n",
      "Test BLEU-4 Score: 0.7435858670045153\n",
      "\n",
      "\n"
     ]
    },
    {
     "name": "stderr",
     "output_type": "stream",
     "text": [
      "100%|██████████| 1227/1227 [01:50<00:00, 11.07it/s]\n",
      "100%|██████████| 10/10 [00:00<00:00, 312.32it/s]\n",
      "  0%|          | 2/1227 [00:00<01:48, 11.29it/s]"
     ]
    },
    {
     "name": "stdout",
     "output_type": "stream",
     "text": [
      "=====================================================\n",
      "Epoch: 7 / 20\n",
      "\n",
      "Train Cross Entropy Loss: 0.13636789778628886\n",
      "Train KL Loss: 799.6773646084455\n",
      "\n",
      "Test Cross Entropy Loss: 8.700434684753418\n",
      "Test KL Loss: 587.6649780273438\n",
      "Test BLEU-4 Score: 0.7209032071251805\n",
      "\n",
      "\n"
     ]
    },
    {
     "name": "stderr",
     "output_type": "stream",
     "text": [
      "100%|██████████| 1227/1227 [01:49<00:00, 11.19it/s]\n",
      "100%|██████████| 10/10 [00:00<00:00, 305.65it/s]\n",
      "  0%|          | 2/1227 [00:00<02:01, 10.11it/s]"
     ]
    },
    {
     "name": "stdout",
     "output_type": "stream",
     "text": [
      "=====================================================\n",
      "Epoch: 8 / 20\n",
      "\n",
      "Train Cross Entropy Loss: 0.10728716873453925\n",
      "Train KL Loss: 784.574332464457\n",
      "\n",
      "Test Cross Entropy Loss: 1.550378680229187\n",
      "Test KL Loss: 661.0294189453125\n",
      "Test BLEU-4 Score: 0.9393588936022669\n",
      "\n",
      "\n"
     ]
    },
    {
     "name": "stderr",
     "output_type": "stream",
     "text": [
      "100%|██████████| 1227/1227 [01:50<00:00, 11.11it/s]\n",
      "100%|██████████| 10/10 [00:00<00:00, 312.32it/s]\n",
      "  0%|          | 2/1227 [00:00<01:58, 10.35it/s]"
     ]
    },
    {
     "name": "stdout",
     "output_type": "stream",
     "text": [
      "=====================================================\n",
      "Epoch: 9 / 20\n",
      "\n",
      "Train Cross Entropy Loss: 0.0857468940776698\n",
      "Train KL Loss: 782.2541799558242\n",
      "\n",
      "Test Cross Entropy Loss: 1.4250849485397339\n",
      "Test KL Loss: 612.3629760742188\n",
      "Test BLEU-4 Score: 0.9335396500884295\n",
      "\n",
      "\n"
     ]
    },
    {
     "name": "stderr",
     "output_type": "stream",
     "text": [
      "100%|██████████| 1227/1227 [01:50<00:00, 11.06it/s]\n",
      "100%|██████████| 10/10 [00:00<00:00, 310.08it/s]\n",
      "  0%|          | 2/1227 [00:00<01:48, 11.24it/s]"
     ]
    },
    {
     "name": "stdout",
     "output_type": "stream",
     "text": [
      "=====================================================\n",
      "Epoch: 10 / 20\n",
      "\n",
      "Train Cross Entropy Loss: 0.06450895323765081\n",
      "Train KL Loss: 790.8008097493431\n",
      "\n",
      "Test Cross Entropy Loss: 2.5487544536590576\n",
      "Test KL Loss: 646.0718994140625\n",
      "Test BLEU-4 Score: 0.8830537288087473\n",
      "\n",
      "\n"
     ]
    },
    {
     "name": "stderr",
     "output_type": "stream",
     "text": [
      "100%|██████████| 1227/1227 [01:51<00:00, 11.04it/s]\n",
      "100%|██████████| 10/10 [00:00<00:00, 317.43it/s]\n",
      "  0%|          | 2/1227 [00:00<01:42, 11.98it/s]"
     ]
    },
    {
     "name": "stdout",
     "output_type": "stream",
     "text": [
      "=====================================================\n",
      "Epoch: 11 / 20\n",
      "\n",
      "Train Cross Entropy Loss: 0.05578113594073611\n",
      "Train KL Loss: 816.4765217352807\n",
      "\n",
      "Test Cross Entropy Loss: 0.5907851457595825\n",
      "Test KL Loss: 659.0595092773438\n",
      "Test BLEU-4 Score: 0.9778800783071404\n",
      "\n",
      "\n"
     ]
    },
    {
     "name": "stderr",
     "output_type": "stream",
     "text": [
      "100%|██████████| 1227/1227 [01:50<00:00, 11.06it/s]\n",
      "100%|██████████| 10/10 [00:00<00:00, 309.60it/s]\n",
      "  0%|          | 1/1227 [00:00<02:03,  9.90it/s]"
     ]
    },
    {
     "name": "stdout",
     "output_type": "stream",
     "text": [
      "=====================================================\n",
      "Epoch: 12 / 20\n",
      "\n",
      "Train Cross Entropy Loss: 0.04215189371195891\n",
      "Train KL Loss: 848.28948053061\n",
      "\n",
      "Test Cross Entropy Loss: 3.027355909347534\n",
      "Test KL Loss: 702.8142700195312\n",
      "Test BLEU-4 Score: 0.7679185822250719\n",
      "\n",
      "\n"
     ]
    },
    {
     "name": "stderr",
     "output_type": "stream",
     "text": [
      "100%|██████████| 1227/1227 [01:51<00:00, 10.96it/s]\n",
      "100%|██████████| 10/10 [00:00<00:00, 305.22it/s]\n",
      "  0%|          | 2/1227 [00:00<02:01, 10.05it/s]"
     ]
    },
    {
     "name": "stdout",
     "output_type": "stream",
     "text": [
      "=====================================================\n",
      "Epoch: 13 / 20\n",
      "\n",
      "Train Cross Entropy Loss: 0.03284819463321181\n",
      "Train KL Loss: 841.6426089944091\n",
      "\n",
      "Test Cross Entropy Loss: 1.263116717338562\n",
      "Test KL Loss: 664.8004760742188\n",
      "Test BLEU-4 Score: 0.966063286360276\n",
      "\n",
      "\n"
     ]
    },
    {
     "name": "stderr",
     "output_type": "stream",
     "text": [
      "100%|██████████| 1227/1227 [01:50<00:00, 11.12it/s]\n",
      "100%|██████████| 10/10 [00:00<00:00, 312.17it/s]\n",
      "  0%|          | 2/1227 [00:00<01:35, 12.86it/s]"
     ]
    },
    {
     "name": "stdout",
     "output_type": "stream",
     "text": [
      "=====================================================\n",
      "Epoch: 14 / 20\n",
      "\n",
      "Train Cross Entropy Loss: 0.027117761988809583\n",
      "Train KL Loss: 853.1998738017104\n",
      "\n",
      "Test Cross Entropy Loss: 1.312896490097046\n",
      "Test KL Loss: 701.4149169921875\n",
      "Test BLEU-4 Score: 0.9354948105601005\n",
      "\n",
      "\n"
     ]
    },
    {
     "name": "stderr",
     "output_type": "stream",
     "text": [
      "100%|██████████| 1227/1227 [01:51<00:00, 11.04it/s]\n",
      "100%|██████████| 10/10 [00:00<00:00, 310.40it/s]\n",
      "  0%|          | 2/1227 [00:00<01:50, 11.13it/s]"
     ]
    },
    {
     "name": "stdout",
     "output_type": "stream",
     "text": [
      "=====================================================\n",
      "Epoch: 15 / 20\n",
      "\n",
      "Train Cross Entropy Loss: 0.02011233753499258\n",
      "Train KL Loss: 855.0171140071265\n",
      "\n",
      "Test Cross Entropy Loss: 0.19971784949302673\n",
      "Test KL Loss: 706.1809692382812\n",
      "Test BLEU-4 Score: 1.0\n",
      "\n",
      "\n"
     ]
    },
    {
     "name": "stderr",
     "output_type": "stream",
     "text": [
      "100%|██████████| 1227/1227 [01:49<00:00, 11.17it/s]\n",
      "100%|██████████| 10/10 [00:00<00:00, 308.58it/s]\n",
      "  0%|          | 2/1227 [00:00<01:41, 12.06it/s]"
     ]
    },
    {
     "name": "stdout",
     "output_type": "stream",
     "text": [
      "=====================================================\n",
      "Epoch: 16 / 20\n",
      "\n",
      "Train Cross Entropy Loss: 0.01791792173087765\n",
      "Train KL Loss: 877.0833497688648\n",
      "\n",
      "Test Cross Entropy Loss: 0.5334085822105408\n",
      "Test KL Loss: 718.2898559570312\n",
      "Test BLEU-4 Score: 0.9598805964232421\n",
      "\n",
      "\n"
     ]
    },
    {
     "name": "stderr",
     "output_type": "stream",
     "text": [
      "100%|██████████| 1227/1227 [01:51<00:00, 11.01it/s]\n",
      "100%|██████████| 10/10 [00:00<00:00, 317.84it/s]\n",
      "  0%|          | 2/1227 [00:00<01:47, 11.39it/s]"
     ]
    },
    {
     "name": "stdout",
     "output_type": "stream",
     "text": [
      "=====================================================\n",
      "Epoch: 17 / 20\n",
      "\n",
      "Train Cross Entropy Loss: 0.014473187516052683\n",
      "Train KL Loss: 885.7621990873321\n",
      "\n",
      "Test Cross Entropy Loss: 0.08428690582513809\n",
      "Test KL Loss: 709.1912231445312\n",
      "Test BLEU-4 Score: 1.0\n",
      "\n",
      "\n"
     ]
    },
    {
     "name": "stderr",
     "output_type": "stream",
     "text": [
      "100%|██████████| 1227/1227 [01:51<00:00, 11.02it/s]\n",
      "100%|██████████| 10/10 [00:00<00:00, 307.29it/s]\n",
      "  0%|          | 1/1227 [00:00<02:08,  9.53it/s]"
     ]
    },
    {
     "name": "stdout",
     "output_type": "stream",
     "text": [
      "=====================================================\n",
      "Epoch: 18 / 20\n",
      "\n",
      "Train Cross Entropy Loss: 0.012668867298290889\n",
      "Train KL Loss: 888.6702223365575\n",
      "\n",
      "Test Cross Entropy Loss: 0.0745370164513588\n",
      "Test KL Loss: 725.1195678710938\n",
      "Test BLEU-4 Score: 1.0\n",
      "\n",
      "\n"
     ]
    },
    {
     "name": "stderr",
     "output_type": "stream",
     "text": [
      "100%|██████████| 1227/1227 [01:50<00:00, 11.10it/s]\n",
      "100%|██████████| 10/10 [00:00<00:00, 307.12it/s]\n",
      "  0%|          | 2/1227 [00:00<01:47, 11.42it/s]"
     ]
    },
    {
     "name": "stdout",
     "output_type": "stream",
     "text": [
      "=====================================================\n",
      "Epoch: 19 / 20\n",
      "\n",
      "Train Cross Entropy Loss: 0.009126676794106378\n",
      "Train KL Loss: 897.2045555653633\n",
      "\n",
      "Test Cross Entropy Loss: 0.10543161630630493\n",
      "Test KL Loss: 737.6712646484375\n",
      "Test BLEU-4 Score: 1.0\n",
      "\n",
      "\n"
     ]
    },
    {
     "name": "stderr",
     "output_type": "stream",
     "text": [
      "100%|██████████| 1227/1227 [01:50<00:00, 11.07it/s]\n",
      "100%|██████████| 10/10 [00:00<00:00, 315.18it/s]"
     ]
    },
    {
     "name": "stdout",
     "output_type": "stream",
     "text": [
      "=====================================================\n",
      "Epoch: 20 / 20\n",
      "\n",
      "Train Cross Entropy Loss: 0.008548152384737323\n",
      "Train KL Loss: 904.9988915330202\n",
      "\n",
      "Test Cross Entropy Loss: 0.0563817024230957\n",
      "Test KL Loss: 735.1590576171875\n",
      "Test BLEU-4 Score: 1.0\n",
      "\n",
      "\n"
     ]
    },
    {
     "name": "stderr",
     "output_type": "stream",
     "text": [
      "\n"
     ]
    }
   ],
   "source": [
    "# Define hyperparameters\n",
    "hidden_size = 256\n",
    "latent_size = 128\n",
    "vocab_size = 28\n",
    "num_conds = 4\n",
    "cond_size = 32\n",
    "teacher_forcing_ratio = 0.5\n",
    "learning_rate = 0.05\n",
    "MAX_LENGTH = 40\n",
    "num_epochs = 20\n",
    "\n",
    "# Encoder & Decoder\n",
    "encoder = EncoderRNN(vocab_size, hidden_size, latent_size, num_conds, cond_size).to(device)\n",
    "decoder = DecoderRNN(latent_size+cond_size, vocab_size).to(device)\n",
    "\n",
    "# Train\n",
    "encoder, decoder, train_loss_list, test_score_list = train(encoder, decoder,\n",
    "                                                           train_data, train_cond, test_data, test_cond,\n",
    "                                                           kl_anealing_func=get_kl_anealing_func('cyclical', period=10000),\n",
    "                                                           teacher_forcing_ratio=teacher_forcing_ratio,\n",
    "                                                           num_epochs=num_epochs)"
   ]
  },
  {
   "cell_type": "code",
   "execution_count": 289,
   "metadata": {},
   "outputs": [],
   "source": [
    "torch.save(encoder.state_dict(), 'models/encoder_monotonic.pth')\n",
    "torch.save(decoder.state_dict(), 'models/decoder_monotonic.pth')"
   ]
  },
  {
   "cell_type": "code",
   "execution_count": 15,
   "metadata": {},
   "outputs": [
    {
     "ename": "SyntaxError",
     "evalue": "illegal expression for augmented assignment (<ipython-input-15-41ab0e08df21>, line 3)",
     "output_type": "error",
     "traceback": [
      "\u001b[0;36m  File \u001b[0;32m\"<ipython-input-15-41ab0e08df21>\"\u001b[0;36m, line \u001b[0;32m3\u001b[0m\n\u001b[0;31m    a, b += 1, 2\u001b[0m\n\u001b[0m                ^\u001b[0m\n\u001b[0;31mSyntaxError\u001b[0m\u001b[0;31m:\u001b[0m illegal expression for augmented assignment\n"
     ]
    }
   ],
   "source": []
  },
  {
   "cell_type": "code",
   "execution_count": 283,
   "metadata": {},
   "outputs": [],
   "source": [
    "def generate_words(encoder, decoder, num=100):\n",
    "    \n",
    "    encoder.eval()\n",
    "    decoder.eval()\n",
    "    \n",
    "    cond_size = encoder.cond_size\n",
    "    embedded_conditions = {}\n",
    "    for cond in conditions:\n",
    "        cond_tensor = torch.tensor(cond_to_ix[cond], device=device)\n",
    "        embedded_conditions[cond] = encoder.condition_embedding(cond_tensor)\n",
    "    \n",
    "    words_list = []\n",
    "    with torch.no_grad():\n",
    "        for _ in range(num):\n",
    "            noise = decoder.init_hidden()\n",
    "\n",
    "            # Generate Gaussian noise\n",
    "            noise = (noise[0].normal_(), noise[1].normal_())\n",
    "\n",
    "            # Generate words with 4 different tenses\n",
    "            words = []\n",
    "            for embedded_cond in embedded_conditions.values():\n",
    "                \n",
    "                noise[0][:, :, -cond_size:] = embedded_cond\n",
    "                noise[1][:, :, -cond_size:] = embedded_cond\n",
    "            \n",
    "                decoder_input = torch.tensor([[SOS_token]], device=device)\n",
    "                decoder_hidden = noise\n",
    "            \n",
    "                word = ''\n",
    "                while True:\n",
    "                    decoder_output, decoder_hidden = decoder(decoder_input, decoder_hidden)\n",
    "                    topv, topi = decoder_output.topk(1)\n",
    "                    decoder_input = topi.squeeze().detach()\n",
    "                    \n",
    "                    if decoder_input == EOS_token:\n",
    "                        break\n",
    "                        \n",
    "                    word += ix_to_ch[decoder_input.item()]\n",
    "                words.append(word)\n",
    "            words_list.append(words)\n",
    "    return words_list"
   ]
  },
  {
   "cell_type": "code",
   "execution_count": 284,
   "metadata": {},
   "outputs": [],
   "source": [
    "words_list = generate_words(encoder, decoder)"
   ]
  },
  {
   "cell_type": "code",
   "execution_count": 285,
   "metadata": {},
   "outputs": [
    {
     "name": "stdout",
     "output_type": "stream",
     "text": [
      "['l', 'es', 'eling', 'led']\n",
      "['de', 'wes', 'dieng', 'wed']\n",
      "['ad', 'as', 'ading', 'ad']\n",
      "['', 'ges', 'ging', 'g']\n",
      "['an', 'ads', 'aing', 'ped']\n",
      "['', 'se', 'sing', 't']\n",
      "['ad', 'ads', 'ads', 'ad']\n",
      "['ig', 'igs', 'igning', 'wed']\n",
      "['ar', 'ars', 'arnging', 'arged']\n",
      "['g', 'ges', 'shing', 'go']\n",
      "['ave', 'as', 'aving', 'aped']\n",
      "['', 'ser', 'saing', 'god']\n",
      "['ge', 'ges', 'gening', 'ged']\n",
      "['d', 'ses', 'ding', 'd']\n",
      "['e', 'es', 'eping', 'ept']\n",
      "['', 'irs', 'inging', '']\n",
      "['g', 'ges', 'ging', 'ght']\n",
      "['y', 'ers', 'ing', 'od']\n",
      "['', 'es', 'peing', 'pe']\n",
      "['', 'eds', 'ad', '']\n",
      "['s', 's', 's', 'go']\n",
      "['', 'ges', 'gling', 'go']\n",
      "['aw', 'eas', 'awing', 'aw']\n",
      "['', 'ges', 'gering', 'ged']\n",
      "['h', 'hes', 'hing', 'hed']\n",
      "['s', 'sers', 'saying', 'do']\n",
      "['d', 'ses', 'shing', 'd']\n",
      "['ave', 'es', 'aving', 'aved']\n",
      "['', 'tes', 'ting', '']\n",
      "['', '', 'ting', '']\n",
      "['ge', 'ges', 'irgng', 'ged']\n",
      "['ct', 'ecs', 'ecting', 'tced']\n",
      "['e', 'eas', 'eading', 'hed']\n",
      "['e', 'es', 'inging', 'or']\n",
      "['l', 'les', 'lening', 'le']\n",
      "['gle', 'ges', 'geling', 'go']\n",
      "['', 's', 's', '']\n",
      "['', 'des', 'ding', '']\n",
      "['', 'ges', 'ging', 'ped']\n",
      "['', 's', 'sing', '']\n",
      "['', 'tes', 'ering', 'ted']\n",
      "['', 's', 'ding', '']\n",
      "['', 'ges', 'ing', 'hed']\n",
      "['', 'ges', 'nigng', '']\n",
      "['', '', 'pling', '']\n",
      "['ad', 'eds', 'ading', 'ad']\n",
      "['a', 's', 'sping', 'gred']\n",
      "['l', 'les', 'ling', 'ched']\n",
      "['d', 'ses', 'sing', 'ged']\n",
      "['ble', 'grs', 'wing', 'wed']\n",
      "['t', 'tes', 'tirng', 't']\n",
      "['gad', 'ges', 'gaing', 'gad']\n",
      "['p', 'se', 'inging', 'ged']\n",
      "['', 's', 'inging', '']\n",
      "['', 'ges', 'ding', 'ged']\n",
      "['', 's', 'ging', '']\n",
      "['e', 'es', 'ed', 'od']\n",
      "['ch', 'ches', 'ching', 'ched']\n",
      "['g', 'ges', 'gling', 'g']\n",
      "['gr', 'ges', 'gring', 'gred']\n",
      "['', 'ses', 'sing', '']\n",
      "['ar', 'ers', 'ering', 'or']\n",
      "['ri', 'res', 'ring', 'nred']\n",
      "['', 'se', 'ning', 'ged']\n",
      "['', 's', 'irng', '']\n",
      "['d', 'ds', 'ding', 'd']\n",
      "['', 'se', 'inging', '']\n",
      "['', 's', 'shing', 'ho']\n",
      "['', 'es', 'igning', 'h']\n",
      "['ar', 'hes', 'rening', 'hred']\n",
      "['ur', 'irs', 'inging', 'oud']\n",
      "['', 's', 's', '']\n",
      "['ing', 'igs', 'inging', 'ing']\n",
      "['e', 'ees', 'eling', 'led']\n",
      "['', 's', 'ding', '']\n",
      "['', 'ses', 'gring', 'gered']\n",
      "['r', 'rs', 'ring', 'nd']\n",
      "['w', 'wes', 'wing', 'wled']\n",
      "['s', 'sed', 'sing', 'hed']\n",
      "['d', 'des', 'ding', 'god']\n",
      "['s', 's', 's', 'ged']\n",
      "['', 'res', 'ring', 're']\n",
      "['', 's', 's', 's']\n",
      "['', 'es', 'eaping', 'ewed']\n",
      "['', 'ges', 'gecing', 'ged']\n",
      "['', 'ces', 'cing', 'wed']\n",
      "['', 'hes', 'inging', '']\n",
      "['d', 'ses', 'sang', 'd']\n",
      "['ing', 'is', 'inging', 'd']\n",
      "['g', 'ges', 'ging', 'ge']\n",
      "['s', 's', 'sping', 'mped']\n",
      "['d', 'ers', 'dring', 'de']\n",
      "['', 'wes', 'ing', 'wen']\n",
      "['', 'ers', 'ering', 'hed']\n",
      "['g', 'gs', 'ging', 'ght']\n",
      "['a', 'as', 'awing', 'wed']\n",
      "['s', 's', 'sging', 'w']\n",
      "['we', 'ges', 'wering', 'we']\n",
      "['', 'ges', 'gering', '']\n",
      "['d', 'ds', 'ding', 'd']\n"
     ]
    }
   ],
   "source": [
    "for words in words_list:\n",
    "    print(words)"
   ]
  },
  {
   "cell_type": "code",
   "execution_count": 32,
   "metadata": {},
   "outputs": [
    {
     "data": {
      "text/plain": [
       "[<matplotlib.lines.Line2D at 0x7fa26f8bbe80>]"
      ]
     },
     "execution_count": 32,
     "metadata": {},
     "output_type": "execute_result"
    },
    {
     "data": {
      "image/png": "[encoded data removed]",
      "text/plain": [
       "<Figure size 432x288 with 1 Axes>"
      ]
     },
     "metadata": {
      "needs_background": "light"
     },
     "output_type": "display_data"
    }
   ],
   "source": [
    "plt.plot(w)"
   ]
  },
  {
   "cell_type": "code",
   "execution_count": 127,
   "metadata": {},
   "outputs": [],
   "source": [
    "a = torch.tensor([[1]])"
   ]
  },
  {
   "cell_type": "code",
   "execution_count": 128,
   "metadata": {},
   "outputs": [
    {
     "data": {
      "text/plain": [
       "tensor([[1]])"
      ]
     },
     "execution_count": 128,
     "metadata": {},
     "output_type": "execute_result"
    }
   ],
   "source": [
    "a"
   ]
  },
  {
   "cell_type": "code",
   "execution_count": 258,
   "metadata": {},
   "outputs": [],
   "source": [
    "train_loss_list_cyclical = train_loss_list.copy()"
   ]
  },
  {
   "cell_type": "code",
   "execution_count": 259,
   "metadata": {},
   "outputs": [],
   "source": [
    "test_score_list_cyclical = test_score_list.copy()"
   ]
  },
  {
   "cell_type": "code",
   "execution_count": 290,
   "metadata": {},
   "outputs": [],
   "source": [
    "train_loss_list_monotonic = train_loss_list.copy()\n",
    "test_score_list_monotonic = test_score_list.copy()"
   ]
  },
  {
   "cell_type": "code",
   "execution_count": 179,
   "metadata": {},
   "outputs": [
    {
     "data": {
      "text/plain": [
       "tensor([1, 1])"
      ]
     },
     "execution_count": 179,
     "metadata": {},
     "output_type": "execute_result"
    }
   ],
   "source": [
    "b.view(-1)"
   ]
  },
  {
   "cell_type": "code",
   "execution_count": 264,
   "metadata": {},
   "outputs": [
    {
     "name": "stderr",
     "output_type": "stream",
     "text": [
      "100%|██████████| 10/10 [00:00<00:00, 314.86it/s]"
     ]
    },
    {
     "name": "stdout",
     "output_type": "stream",
     "text": [
      "abandoned abandoned\n",
      "abetting abetting\n",
      "begins begins\n",
      "expends expends\n",
      "sends sends\n",
      "splitting splitting\n",
      "flare flare\n",
      "function function\n",
      "functioned functioned\n",
      "heals heals\n"
     ]
    },
    {
     "name": "stderr",
     "output_type": "stream",
     "text": [
      "\n"
     ]
    }
   ],
   "source": [
    "for i in trange(len(test_data)):\n",
    "    input_data_tensor = torch.tensor([ch_to_ix[ch] for ch in test_data[i][0]], device=device).view(-1, 1)\n",
    "    input_cond_tensor = torch.tensor(cond_to_ix[test_cond[i][0]], device=device)\n",
    "    target_cond_tensor = torch.tensor(cond_to_ix[test_cond[i][1]], device=device)\n",
    "    pred = predict(input_data_tensor, input_cond_tensor, target_cond_tensor, encoder, decoder)\n",
    "    score = compute_bleu(pred, test_data[i][1])\n",
    "    print(pred, test_data[i][1])"
   ]
  },
  {
   "cell_type": "code",
   "execution_count": 266,
   "metadata": {},
   "outputs": [
    {
     "data": {
      "text/plain": [
       "tensor([ 0.7531, -1.5099,  0.5967,  0.7548, -0.4312])"
      ]
     },
     "execution_count": 266,
     "metadata": {},
     "output_type": "execute_result"
    }
   ],
   "source": [
    "torch.empty(5).normal_()"
   ]
  },
  {
   "cell_type": "code",
   "execution_count": 268,
   "metadata": {},
   "outputs": [],
   "source": [
    "t = encoder.init_hidden()"
   ]
  },
  {
   "cell_type": "code",
   "execution_count": 271,
   "metadata": {},
   "outputs": [
    {
     "data": {
      "text/plain": [
       "tensor([[[ 0.4233, -0.2107,  1.3108, -0.4431, -1.2059,  0.1561, -0.6079,\n",
       "          -1.0967,  0.0221,  1.1125, -1.6064,  0.3629,  1.0480, -0.8899,\n",
       "          -0.8501, -0.0663, -0.3708, -1.1808,  2.3166, -1.3944, -1.2858,\n",
       "           0.5931,  0.0908, -0.0376, -0.9505, -0.4532,  1.5534, -1.1819,\n",
       "           0.1057, -0.7331,  1.4506, -0.1566,  0.2780,  0.3375, -0.1828,\n",
       "          -0.8213,  0.5343, -1.4857,  0.2811,  1.7749, -0.4735,  0.5542,\n",
       "          -1.4555, -0.6746, -0.8415,  0.9433, -0.7942, -0.0576,  0.9452,\n",
       "          -1.9283, -0.1319, -1.5095,  0.5740, -0.3545, -0.2987, -0.4119,\n",
       "           1.0933, -1.3812, -1.8943, -0.0090, -0.3866, -0.5335, -0.8637,\n",
       "          -0.4162,  0.2573, -0.9612,  0.5147,  0.4524,  1.3464,  0.5403,\n",
       "           1.2908, -1.7049, -0.4026,  1.9600,  0.6947, -0.0949, -0.9394,\n",
       "          -0.7928,  2.4211,  0.9984,  1.1858, -1.0931, -0.2186,  0.4929,\n",
       "           0.8675,  1.2076,  0.5002, -0.1441, -0.1893, -0.1253, -0.0392,\n",
       "           0.5997, -0.3665,  0.3795, -2.2488,  1.1783, -0.5903, -1.1333,\n",
       "           0.2448, -0.2424,  1.3565,  0.0713,  0.0655, -0.3215,  2.2271,\n",
       "           0.6036, -0.2824,  0.7343,  0.7189, -0.8059, -1.0887, -0.4974,\n",
       "           0.9484, -0.4322,  0.6570, -0.2990, -0.5619, -2.0699,  1.7346,\n",
       "          -1.0684,  0.3830, -1.7334, -0.2402,  0.1434,  0.0417,  0.7218,\n",
       "           2.1221,  0.3428, -1.5979, -0.6027,  0.0925, -1.3665, -0.4936,\n",
       "           0.0116,  0.1611, -0.0597, -0.4223,  0.7449, -1.6512,  1.3870,\n",
       "          -0.2949, -1.8477,  0.6015,  2.2934,  0.0439,  0.9570, -0.7877,\n",
       "          -1.4056, -0.4874,  0.4922,  0.2526,  0.3593,  2.4039, -0.4965,\n",
       "           1.6443,  0.6316,  0.2556, -2.6736, -0.7120,  0.5231,  0.5652,\n",
       "          -1.0450,  1.4744,  1.0519, -1.1274, -0.4843, -0.0451, -0.6772,\n",
       "          -0.4550,  1.4897,  0.7596,  0.0738,  1.0936, -0.6140, -0.2700,\n",
       "          -0.9376, -0.5716,  1.0013, -0.0330,  0.2739,  2.3586,  0.0819,\n",
       "          -0.0866,  0.0115,  0.7524,  1.0391, -2.1442,  0.6017,  1.3869,\n",
       "           1.2344, -0.4641, -0.0179,  0.9350, -0.2369, -2.1532,  0.8197,\n",
       "          -1.8426,  1.6528, -0.4596, -0.0408,  0.0593,  1.0315, -0.4905,\n",
       "           1.4541,  0.8120, -2.6476,  0.0265,  1.3441,  0.4325,  0.2114,\n",
       "           1.2350,  0.3070, -0.3791,  1.2519,  0.4200,  0.1950, -0.9824,\n",
       "          -1.1191,  0.2663, -1.6034, -0.0989, -0.5098, -0.8039, -1.2338]]],\n",
       "       device='cuda:0')"
      ]
     },
     "execution_count": 271,
     "metadata": {},
     "output_type": "execute_result"
    }
   ],
   "source": [
    "t[0].normal_()"
   ]
  },
  {
   "cell_type": "code",
   "execution_count": 305,
   "metadata": {
    "scrolled": false
   },
   "outputs": [
    {
     "name": "stderr",
     "output_type": "stream",
     "text": [
      "100%|██████████| 1227/1227 [01:43<00:00, 11.91it/s]\n",
      "100%|██████████| 10/10 [00:00<00:00, 374.11it/s]\n",
      "  0%|          | 2/1227 [00:00<01:40, 12.25it/s]"
     ]
    },
    {
     "name": "stdout",
     "output_type": "stream",
     "text": [
      "=====================================================\n",
      "Epoch: 1 / 20\n",
      "\n",
      "Train Cross Entropy Loss: 2.621463323750272\n",
      "Train KL Loss: 11.985321844459648\n",
      "\n",
      "Test Cross Entropy Loss: 14.8517427444458\n",
      "Test KL Loss: 23.800907135009766\n",
      "Test BLEU-4 Score: 0.06651283155781636\n",
      "\n",
      "\n"
     ]
    },
    {
     "name": "stderr",
     "output_type": "stream",
     "text": [
      "100%|██████████| 1227/1227 [01:48<00:00, 11.28it/s]\n",
      "100%|██████████| 10/10 [00:00<00:00, 320.68it/s]\n",
      "  0%|          | 1/1227 [00:00<02:03,  9.91it/s]"
     ]
    },
    {
     "name": "stdout",
     "output_type": "stream",
     "text": [
      "=====================================================\n",
      "Epoch: 2 / 20\n",
      "\n",
      "Train Cross Entropy Loss: 1.6178162841551882\n",
      "Train KL Loss: 214.45321799296136\n",
      "\n",
      "Test Cross Entropy Loss: 16.460832595825195\n",
      "Test KL Loss: 348.7698669433594\n",
      "Test BLEU-4 Score: 0.16390657654389604\n",
      "\n",
      "\n"
     ]
    },
    {
     "name": "stderr",
     "output_type": "stream",
     "text": [
      "100%|██████████| 1227/1227 [01:52<00:00, 10.92it/s]\n",
      "100%|██████████| 10/10 [00:00<00:00, 319.36it/s]\n",
      "  0%|          | 2/1227 [00:00<01:55, 10.58it/s]"
     ]
    },
    {
     "name": "stdout",
     "output_type": "stream",
     "text": [
      "=====================================================\n",
      "Epoch: 3 / 20\n",
      "\n",
      "Train Cross Entropy Loss: 0.8264309477619675\n",
      "Train KL Loss: 696.0865751808993\n",
      "\n",
      "Test Cross Entropy Loss: 11.405317306518555\n",
      "Test KL Loss: 710.2158813476562\n",
      "Test BLEU-4 Score: 0.34610668505824355\n",
      "\n",
      "\n"
     ]
    },
    {
     "name": "stderr",
     "output_type": "stream",
     "text": [
      "100%|██████████| 1227/1227 [01:51<00:00, 10.96it/s]\n",
      "100%|██████████| 10/10 [00:00<00:00, 319.90it/s]\n",
      "  0%|          | 2/1227 [00:00<01:42, 11.94it/s]"
     ]
    },
    {
     "name": "stdout",
     "output_type": "stream",
     "text": [
      "=====================================================\n",
      "Epoch: 4 / 20\n",
      "\n",
      "Train Cross Entropy Loss: 0.5043856120787013\n",
      "Train KL Loss: 886.6391504702766\n",
      "\n",
      "Test Cross Entropy Loss: 12.98766803741455\n",
      "Test KL Loss: 668.0698852539062\n",
      "Test BLEU-4 Score: 0.34238710874683637\n",
      "\n",
      "\n"
     ]
    },
    {
     "name": "stderr",
     "output_type": "stream",
     "text": [
      "100%|██████████| 1227/1227 [01:52<00:00, 10.94it/s]\n",
      "100%|██████████| 10/10 [00:00<00:00, 304.87it/s]\n",
      "  0%|          | 2/1227 [00:00<01:52, 10.88it/s]"
     ]
    },
    {
     "name": "stdout",
     "output_type": "stream",
     "text": [
      "=====================================================\n",
      "Epoch: 5 / 20\n",
      "\n",
      "Train Cross Entropy Loss: 0.34046243111603214\n",
      "Train KL Loss: 999.5478166301948\n",
      "\n",
      "Test Cross Entropy Loss: 6.3575758934021\n",
      "Test KL Loss: 750.42822265625\n",
      "Test BLEU-4 Score: 0.7126517329632864\n",
      "\n",
      "\n"
     ]
    },
    {
     "name": "stderr",
     "output_type": "stream",
     "text": [
      "100%|██████████| 1227/1227 [01:52<00:00, 10.91it/s]\n",
      "100%|██████████| 10/10 [00:00<00:00, 304.89it/s]\n",
      "  0%|          | 0/1227 [00:00<?, ?it/s]"
     ]
    },
    {
     "name": "stdout",
     "output_type": "stream",
     "text": [
      "=====================================================\n",
      "Epoch: 6 / 20\n",
      "\n",
      "Train Cross Entropy Loss: 0.24890896492648826\n",
      "Train KL Loss: 1114.2334447465362\n",
      "\n",
      "Test Cross Entropy Loss: 7.118893623352051\n",
      "Test KL Loss: 845.7221069335938\n",
      "Test BLEU-4 Score: 0.6578973522472031\n",
      "\n",
      "\n"
     ]
    },
    {
     "name": "stderr",
     "output_type": "stream",
     "text": [
      "100%|██████████| 1227/1227 [01:53<00:00, 10.82it/s]\n",
      "100%|██████████| 10/10 [00:00<00:00, 304.46it/s]\n",
      "  0%|          | 2/1227 [00:00<01:41, 12.01it/s]"
     ]
    },
    {
     "name": "stdout",
     "output_type": "stream",
     "text": [
      "=====================================================\n",
      "Epoch: 7 / 20\n",
      "\n",
      "Train Cross Entropy Loss: 0.19132963653169477\n",
      "Train KL Loss: 1060.479935426098\n",
      "\n",
      "Test Cross Entropy Loss: 6.423893928527832\n",
      "Test KL Loss: 837.74072265625\n",
      "Test BLEU-4 Score: 0.6625387587799281\n",
      "\n",
      "\n"
     ]
    },
    {
     "name": "stderr",
     "output_type": "stream",
     "text": [
      "100%|██████████| 1227/1227 [01:53<00:00, 10.82it/s]\n",
      "100%|██████████| 10/10 [00:00<00:00, 315.03it/s]\n",
      "  0%|          | 2/1227 [00:00<01:38, 12.41it/s]"
     ]
    },
    {
     "name": "stdout",
     "output_type": "stream",
     "text": [
      "=====================================================\n",
      "Epoch: 8 / 20\n",
      "\n",
      "Train Cross Entropy Loss: 0.14906951000851232\n",
      "Train KL Loss: 1200.560304326164\n",
      "\n",
      "Test Cross Entropy Loss: 3.622102737426758\n",
      "Test KL Loss: 857.658203125\n",
      "Test BLEU-4 Score: 0.7680911692785725\n",
      "\n",
      "\n"
     ]
    },
    {
     "name": "stderr",
     "output_type": "stream",
     "text": [
      "100%|██████████| 1227/1227 [01:53<00:00, 10.83it/s]\n",
      "100%|██████████| 10/10 [00:00<00:00, 316.19it/s]\n",
      "  0%|          | 2/1227 [00:00<01:31, 13.43it/s]"
     ]
    },
    {
     "name": "stdout",
     "output_type": "stream",
     "text": [
      "=====================================================\n",
      "Epoch: 9 / 20\n",
      "\n",
      "Train Cross Entropy Loss: 0.1178051424202001\n",
      "Train KL Loss: 1303.7461278019505\n",
      "\n",
      "Test Cross Entropy Loss: 3.413670301437378\n",
      "Test KL Loss: 890.7767944335938\n",
      "Test BLEU-4 Score: 0.7696875038579386\n",
      "\n",
      "\n"
     ]
    },
    {
     "name": "stderr",
     "output_type": "stream",
     "text": [
      "100%|██████████| 1227/1227 [01:53<00:00, 10.80it/s]\n",
      "100%|██████████| 10/10 [00:00<00:00, 315.53it/s]\n",
      "  0%|          | 2/1227 [00:00<01:42, 11.96it/s]"
     ]
    },
    {
     "name": "stdout",
     "output_type": "stream",
     "text": [
      "=====================================================\n",
      "Epoch: 10 / 20\n",
      "\n",
      "Train Cross Entropy Loss: 0.09401605211056993\n",
      "Train KL Loss: 1281.4154630633548\n",
      "\n",
      "Test Cross Entropy Loss: 2.247598171234131\n",
      "Test KL Loss: 903.4953002929688\n",
      "Test BLEU-4 Score: 0.7869228046212127\n",
      "\n",
      "\n"
     ]
    },
    {
     "name": "stderr",
     "output_type": "stream",
     "text": [
      "100%|██████████| 1227/1227 [01:53<00:00, 10.84it/s]\n",
      "100%|██████████| 10/10 [00:00<00:00, 316.11it/s]\n",
      "  0%|          | 1/1227 [00:00<02:09,  9.49it/s]"
     ]
    },
    {
     "name": "stdout",
     "output_type": "stream",
     "text": [
      "=====================================================\n",
      "Epoch: 11 / 20\n",
      "\n",
      "Train Cross Entropy Loss: 0.07688520355706009\n",
      "Train KL Loss: 1261.7159842968117\n",
      "\n",
      "Test Cross Entropy Loss: 2.621689558029175\n",
      "Test KL Loss: 901.3770751953125\n",
      "Test BLEU-4 Score: 0.8499992354272841\n",
      "\n",
      "\n"
     ]
    },
    {
     "name": "stderr",
     "output_type": "stream",
     "text": [
      "100%|██████████| 1227/1227 [01:56<00:00, 10.57it/s]\n",
      "100%|██████████| 10/10 [00:00<00:00, 316.21it/s]\n",
      "  0%|          | 2/1227 [00:00<01:45, 11.66it/s]"
     ]
    },
    {
     "name": "stdout",
     "output_type": "stream",
     "text": [
      "=====================================================\n",
      "Epoch: 12 / 20\n",
      "\n",
      "Train Cross Entropy Loss: 0.06294278175324432\n",
      "Train KL Loss: 1275.8399910080923\n",
      "\n",
      "Test Cross Entropy Loss: 2.1336379051208496\n",
      "Test KL Loss: 916.1139526367188\n",
      "Test BLEU-4 Score: 0.8755642034501456\n",
      "\n",
      "\n"
     ]
    },
    {
     "name": "stderr",
     "output_type": "stream",
     "text": [
      "100%|██████████| 1227/1227 [02:00<00:00, 10.15it/s]\n",
      "100%|██████████| 10/10 [00:00<00:00, 316.92it/s]\n",
      "  0%|          | 2/1227 [00:00<01:36, 12.70it/s]"
     ]
    },
    {
     "name": "stdout",
     "output_type": "stream",
     "text": [
      "=====================================================\n",
      "Epoch: 13 / 20\n",
      "\n",
      "Train Cross Entropy Loss: 0.0522277608977497\n",
      "Train KL Loss: 1352.2467511847303\n",
      "\n",
      "Test Cross Entropy Loss: 0.35409459471702576\n",
      "Test KL Loss: 937.83056640625\n",
      "Test BLEU-4 Score: 0.9778800783071404\n",
      "\n",
      "\n"
     ]
    },
    {
     "name": "stderr",
     "output_type": "stream",
     "text": [
      "100%|██████████| 1227/1227 [01:52<00:00, 10.88it/s]\n",
      "100%|██████████| 10/10 [00:00<00:00, 319.20it/s]\n",
      "  0%|          | 0/1227 [00:00<?, ?it/s]"
     ]
    },
    {
     "name": "stdout",
     "output_type": "stream",
     "text": [
      "=====================================================\n",
      "Epoch: 14 / 20\n",
      "\n",
      "Train Cross Entropy Loss: 0.04140846650010831\n",
      "Train KL Loss: 1292.917116755346\n",
      "\n",
      "Test Cross Entropy Loss: 0.16734234988689423\n",
      "Test KL Loss: 973.7716674804688\n",
      "Test BLEU-4 Score: 1.0\n",
      "\n",
      "\n"
     ]
    },
    {
     "name": "stderr",
     "output_type": "stream",
     "text": [
      "100%|██████████| 1227/1227 [01:52<00:00, 10.88it/s]\n",
      "100%|██████████| 10/10 [00:00<00:00, 316.16it/s]\n",
      "  0%|          | 2/1227 [00:00<01:40, 12.14it/s]"
     ]
    },
    {
     "name": "stdout",
     "output_type": "stream",
     "text": [
      "=====================================================\n",
      "Epoch: 15 / 20\n",
      "\n",
      "Train Cross Entropy Loss: 0.03007307338749804\n",
      "Train KL Loss: 1423.9595105607236\n",
      "\n",
      "Test Cross Entropy Loss: 0.5195269584655762\n",
      "Test KL Loss: 1001.0723876953125\n",
      "Test BLEU-4 Score: 0.9707106781186547\n",
      "\n",
      "\n"
     ]
    },
    {
     "name": "stderr",
     "output_type": "stream",
     "text": [
      "100%|██████████| 1227/1227 [01:54<00:00, 10.73it/s]\n",
      "100%|██████████| 10/10 [00:00<00:00, 312.68it/s]\n",
      "  0%|          | 2/1227 [00:00<01:47, 11.35it/s]"
     ]
    },
    {
     "name": "stdout",
     "output_type": "stream",
     "text": [
      "=====================================================\n",
      "Epoch: 16 / 20\n",
      "\n",
      "Train Cross Entropy Loss: 0.02268237265294022\n",
      "Train KL Loss: 1410.627798905874\n",
      "\n",
      "Test Cross Entropy Loss: 0.13444827497005463\n",
      "Test KL Loss: 996.9894409179688\n",
      "Test BLEU-4 Score: 1.0\n",
      "\n",
      "\n"
     ]
    },
    {
     "name": "stderr",
     "output_type": "stream",
     "text": [
      "100%|██████████| 1227/1227 [01:53<00:00, 10.84it/s]\n",
      "100%|██████████| 10/10 [00:00<00:00, 308.19it/s]\n",
      "  0%|          | 1/1227 [00:00<02:04,  9.87it/s]"
     ]
    },
    {
     "name": "stdout",
     "output_type": "stream",
     "text": [
      "=====================================================\n",
      "Epoch: 17 / 20\n",
      "\n",
      "Train Cross Entropy Loss: 0.017328348619484627\n",
      "Train KL Loss: 1339.4184202449667\n",
      "\n",
      "Test Cross Entropy Loss: 0.1312038004398346\n",
      "Test KL Loss: 997.1080932617188\n",
      "Test BLEU-4 Score: 1.0\n",
      "\n",
      "\n"
     ]
    },
    {
     "name": "stderr",
     "output_type": "stream",
     "text": [
      "100%|██████████| 1227/1227 [01:52<00:00, 10.86it/s]\n",
      "100%|██████████| 10/10 [00:00<00:00, 310.23it/s]\n",
      "  0%|          | 2/1227 [00:00<01:50, 11.09it/s]"
     ]
    },
    {
     "name": "stdout",
     "output_type": "stream",
     "text": [
      "=====================================================\n",
      "Epoch: 18 / 20\n",
      "\n",
      "Train Cross Entropy Loss: 0.015266353100239917\n",
      "Train KL Loss: 1291.9690145934544\n",
      "\n",
      "Test Cross Entropy Loss: 0.10948039591312408\n",
      "Test KL Loss: 1045.0169677734375\n",
      "Test BLEU-4 Score: 1.0\n",
      "\n",
      "\n"
     ]
    },
    {
     "name": "stderr",
     "output_type": "stream",
     "text": [
      "100%|██████████| 1227/1227 [01:53<00:00, 10.79it/s]\n",
      "100%|██████████| 10/10 [00:00<00:00, 318.07it/s]\n",
      "  0%|          | 2/1227 [00:00<01:45, 11.61it/s]"
     ]
    },
    {
     "name": "stdout",
     "output_type": "stream",
     "text": [
      "=====================================================\n",
      "Epoch: 19 / 20\n",
      "\n",
      "Train Cross Entropy Loss: 0.014009266868512523\n",
      "Train KL Loss: 1318.8346170717139\n",
      "\n",
      "Test Cross Entropy Loss: 0.10826517641544342\n",
      "Test KL Loss: 1026.8331298828125\n",
      "Test BLEU-4 Score: 1.0\n",
      "\n",
      "\n"
     ]
    },
    {
     "name": "stderr",
     "output_type": "stream",
     "text": [
      "100%|██████████| 1227/1227 [01:51<00:00, 10.96it/s]\n",
      "100%|██████████| 10/10 [00:00<00:00, 320.06it/s]"
     ]
    },
    {
     "name": "stdout",
     "output_type": "stream",
     "text": [
      "=====================================================\n",
      "Epoch: 20 / 20\n",
      "\n",
      "Train Cross Entropy Loss: 0.010027530158666104\n",
      "Train KL Loss: 1340.1527442787044\n",
      "\n",
      "Test Cross Entropy Loss: 0.10461216419935226\n",
      "Test KL Loss: 1019.2639770507812\n",
      "Test BLEU-4 Score: 1.0\n",
      "\n",
      "\n"
     ]
    },
    {
     "name": "stderr",
     "output_type": "stream",
     "text": [
      "\n"
     ]
    }
   ],
   "source": [
    "# Encoder & Decoder\n",
    "encoder_0 = EncoderRNN(vocab_size, hidden_size, latent_size, num_conds, cond_size).to(device)\n",
    "decoder_0 = DecoderRNN(latent_size+cond_size, vocab_size).to(device)\n",
    "\n",
    "# Train\n",
    "encoder_0, decoder_0, train_loss_list_0, test_score_list_0 = train(encoder_0, decoder_0,\n",
    "                                                           train_data, train_cond, test_data, test_cond,\n",
    "                                                           kl_anealing_func=get_kl_anealing_func('cyclical', period=10000),\n",
    "                                                           teacher_forcing_ratio=0,\n",
    "                                                           num_epochs=num_epochs)"
   ]
  },
  {
   "cell_type": "code",
   "execution_count": 306,
   "metadata": {
    "scrolled": false
   },
   "outputs": [
    {
     "name": "stderr",
     "output_type": "stream",
     "text": [
      "100%|██████████| 1227/1227 [01:45<00:00, 11.66it/s]\n",
      "100%|██████████| 10/10 [00:00<00:00, 318.78it/s]\n",
      "  0%|          | 1/1227 [00:00<02:04,  9.81it/s]"
     ]
    },
    {
     "name": "stdout",
     "output_type": "stream",
     "text": [
      "=====================================================\n",
      "Epoch: 1 / 20\n",
      "\n",
      "Train Cross Entropy Loss: 2.5685994831667553\n",
      "Train KL Loss: 12.619815396375223\n",
      "\n",
      "Test Cross Entropy Loss: 16.137582778930664\n",
      "Test KL Loss: 33.84439468383789\n",
      "Test BLEU-4 Score: 0.09928773400135933\n",
      "\n",
      "\n"
     ]
    },
    {
     "name": "stderr",
     "output_type": "stream",
     "text": [
      "100%|██████████| 1227/1227 [01:50<00:00, 11.08it/s]\n",
      "100%|██████████| 10/10 [00:00<00:00, 319.46it/s]\n",
      "  0%|          | 2/1227 [00:00<01:24, 14.56it/s]"
     ]
    },
    {
     "name": "stdout",
     "output_type": "stream",
     "text": [
      "=====================================================\n",
      "Epoch: 2 / 20\n",
      "\n",
      "Train Cross Entropy Loss: 1.5874917947810423\n",
      "Train KL Loss: 483.41315448941566\n",
      "\n",
      "Test Cross Entropy Loss: 12.941168785095215\n",
      "Test KL Loss: 328.1576843261719\n",
      "Test BLEU-4 Score: 0.19489470099666256\n",
      "\n",
      "\n"
     ]
    },
    {
     "name": "stderr",
     "output_type": "stream",
     "text": [
      "100%|██████████| 1227/1227 [01:50<00:00, 11.08it/s]\n",
      "100%|██████████| 10/10 [00:00<00:00, 318.75it/s]\n",
      "  0%|          | 2/1227 [00:00<01:51, 10.94it/s]"
     ]
    },
    {
     "name": "stdout",
     "output_type": "stream",
     "text": [
      "=====================================================\n",
      "Epoch: 3 / 20\n",
      "\n",
      "Train Cross Entropy Loss: 0.7520689498848203\n",
      "Train KL Loss: 101685.26882862249\n",
      "\n",
      "Test Cross Entropy Loss: 9.478663444519043\n",
      "Test KL Loss: 785.9896850585938\n",
      "Test BLEU-4 Score: 0.3834410210779974\n",
      "\n",
      "\n"
     ]
    },
    {
     "name": "stderr",
     "output_type": "stream",
     "text": [
      "100%|██████████| 1227/1227 [01:50<00:00, 11.06it/s]\n",
      "100%|██████████| 10/10 [00:00<00:00, 318.67it/s]\n",
      "  0%|          | 1/1227 [00:00<02:17,  8.90it/s]"
     ]
    },
    {
     "name": "stdout",
     "output_type": "stream",
     "text": [
      "=====================================================\n",
      "Epoch: 4 / 20\n",
      "\n",
      "Train Cross Entropy Loss: 0.443525070052683\n",
      "Train KL Loss: 398068.3824653377\n",
      "\n",
      "Test Cross Entropy Loss: 10.653193473815918\n",
      "Test KL Loss: 631.7128295898438\n",
      "Test BLEU-4 Score: 0.4660549870980386\n",
      "\n",
      "\n"
     ]
    },
    {
     "name": "stderr",
     "output_type": "stream",
     "text": [
      "100%|██████████| 1227/1227 [01:51<00:00, 11.03it/s]\n",
      "100%|██████████| 10/10 [00:00<00:00, 319.92it/s]\n",
      "  0%|          | 2/1227 [00:00<01:42, 11.92it/s]"
     ]
    },
    {
     "name": "stdout",
     "output_type": "stream",
     "text": [
      "=====================================================\n",
      "Epoch: 5 / 20\n",
      "\n",
      "Train Cross Entropy Loss: 0.3029331322700565\n",
      "Train KL Loss: 215565.5965370032\n",
      "\n",
      "Test Cross Entropy Loss: 10.031100273132324\n",
      "Test KL Loss: 758.125\n",
      "Test BLEU-4 Score: 0.5809339673738876\n",
      "\n",
      "\n"
     ]
    },
    {
     "name": "stderr",
     "output_type": "stream",
     "text": [
      "100%|██████████| 1227/1227 [01:50<00:00, 11.14it/s]\n",
      "100%|██████████| 10/10 [00:00<00:00, 318.68it/s]\n",
      "  0%|          | 2/1227 [00:00<01:38, 12.40it/s]"
     ]
    },
    {
     "name": "stdout",
     "output_type": "stream",
     "text": [
      "=====================================================\n",
      "Epoch: 6 / 20\n",
      "\n",
      "Train Cross Entropy Loss: 0.22221282162400977\n",
      "Train KL Loss: 349957.082692845\n",
      "\n",
      "Test Cross Entropy Loss: 4.089372634887695\n",
      "Test KL Loss: 5034.390625\n",
      "Test BLEU-4 Score: 0.6066492299962756\n",
      "\n",
      "\n"
     ]
    },
    {
     "name": "stderr",
     "output_type": "stream",
     "text": [
      "100%|██████████| 1227/1227 [01:52<00:00, 10.91it/s]\n",
      "100%|██████████| 10/10 [00:00<00:00, 304.26it/s]\n",
      "  0%|          | 0/1227 [00:00<?, ?it/s]"
     ]
    },
    {
     "name": "stdout",
     "output_type": "stream",
     "text": [
      "=====================================================\n",
      "Epoch: 7 / 20\n",
      "\n",
      "Train Cross Entropy Loss: 0.1663562333025753\n",
      "Train KL Loss: 167405.9690446369\n",
      "\n",
      "Test Cross Entropy Loss: 5.625385761260986\n",
      "Test KL Loss: 9439.4130859375\n",
      "Test BLEU-4 Score: 0.8607682328855878\n",
      "\n",
      "\n"
     ]
    },
    {
     "name": "stderr",
     "output_type": "stream",
     "text": [
      "100%|██████████| 1227/1227 [01:52<00:00, 10.93it/s]\n",
      "100%|██████████| 10/10 [00:00<00:00, 306.24it/s]\n",
      "  0%|          | 2/1227 [00:00<01:44, 11.77it/s]"
     ]
    },
    {
     "name": "stdout",
     "output_type": "stream",
     "text": [
      "=====================================================\n",
      "Epoch: 8 / 20\n",
      "\n",
      "Train Cross Entropy Loss: 0.12931597599712671\n",
      "Train KL Loss: 143006.0809116151\n",
      "\n",
      "Test Cross Entropy Loss: 3.515899658203125\n",
      "Test KL Loss: 1154.298095703125\n",
      "Test BLEU-4 Score: 0.8410910972520058\n",
      "\n",
      "\n"
     ]
    },
    {
     "name": "stderr",
     "output_type": "stream",
     "text": [
      "100%|██████████| 1227/1227 [01:52<00:00, 10.92it/s]\n",
      "100%|██████████| 10/10 [00:00<00:00, 307.25it/s]\n",
      "  0%|          | 2/1227 [00:00<01:50, 11.08it/s]"
     ]
    },
    {
     "name": "stdout",
     "output_type": "stream",
     "text": [
      "=====================================================\n",
      "Epoch: 9 / 20\n",
      "\n",
      "Train Cross Entropy Loss: 0.1080077605705184\n",
      "Train KL Loss: 100390.28651848502\n",
      "\n",
      "Test Cross Entropy Loss: 1.7555128335952759\n",
      "Test KL Loss: 1369.3758544921875\n",
      "Test BLEU-4 Score: 0.8344030470095112\n",
      "\n",
      "\n"
     ]
    },
    {
     "name": "stderr",
     "output_type": "stream",
     "text": [
      "100%|██████████| 1227/1227 [01:52<00:00, 10.95it/s]\n",
      "100%|██████████| 10/10 [00:00<00:00, 320.18it/s]\n",
      "  0%|          | 1/1227 [00:00<02:15,  9.04it/s]"
     ]
    },
    {
     "name": "stdout",
     "output_type": "stream",
     "text": [
      "=====================================================\n",
      "Epoch: 10 / 20\n",
      "\n",
      "Train Cross Entropy Loss: 0.08262321467484743\n",
      "Train KL Loss: 126266.77535346305\n",
      "\n",
      "Test Cross Entropy Loss: 3.730701208114624\n",
      "Test KL Loss: 3158.57568359375\n",
      "Test BLEU-4 Score: 0.7888460035803996\n",
      "\n",
      "\n"
     ]
    },
    {
     "name": "stderr",
     "output_type": "stream",
     "text": [
      "100%|██████████| 1227/1227 [01:52<00:00, 10.95it/s]\n",
      "100%|██████████| 10/10 [00:00<00:00, 310.75it/s]\n",
      "  0%|          | 1/1227 [00:00<02:03,  9.94it/s]"
     ]
    },
    {
     "name": "stdout",
     "output_type": "stream",
     "text": [
      "=====================================================\n",
      "Epoch: 11 / 20\n",
      "\n",
      "Train Cross Entropy Loss: 0.06560634876807536\n",
      "Train KL Loss: 171685.8791945524\n",
      "\n",
      "Test Cross Entropy Loss: 3.4446377754211426\n",
      "Test KL Loss: 2603.660888671875\n",
      "Test BLEU-4 Score: 0.8923419757923693\n",
      "\n",
      "\n"
     ]
    },
    {
     "name": "stderr",
     "output_type": "stream",
     "text": [
      "100%|██████████| 1227/1227 [01:51<00:00, 11.03it/s]\n",
      "100%|██████████| 10/10 [00:00<00:00, 311.51it/s]\n",
      "  0%|          | 2/1227 [00:00<01:51, 10.96it/s]"
     ]
    },
    {
     "name": "stdout",
     "output_type": "stream",
     "text": [
      "=====================================================\n",
      "Epoch: 12 / 20\n",
      "\n",
      "Train Cross Entropy Loss: 0.051672571049667305\n",
      "Train KL Loss: 172760.76819091398\n",
      "\n",
      "Test Cross Entropy Loss: 5.586647033691406\n",
      "Test KL Loss: 3461.158203125\n",
      "Test BLEU-4 Score: 0.8332729998656294\n",
      "\n",
      "\n"
     ]
    },
    {
     "name": "stderr",
     "output_type": "stream",
     "text": [
      "100%|██████████| 1227/1227 [01:53<00:00, 10.77it/s]\n",
      "100%|██████████| 10/10 [00:00<00:00, 312.77it/s]\n",
      "  0%|          | 1/1227 [00:00<02:03,  9.91it/s]"
     ]
    },
    {
     "name": "stdout",
     "output_type": "stream",
     "text": [
      "=====================================================\n",
      "Epoch: 13 / 20\n",
      "\n",
      "Train Cross Entropy Loss: 0.043007535117245255\n",
      "Train KL Loss: 164930.18295369542\n",
      "\n",
      "Test Cross Entropy Loss: 0.25629639625549316\n",
      "Test KL Loss: 2680.843505859375\n",
      "Test BLEU-4 Score: 1.0\n",
      "\n",
      "\n"
     ]
    },
    {
     "name": "stderr",
     "output_type": "stream",
     "text": [
      "100%|██████████| 1227/1227 [01:52<00:00, 10.91it/s]\n",
      "100%|██████████| 10/10 [00:00<00:00, 318.46it/s]\n",
      "  0%|          | 2/1227 [00:00<01:53, 10.80it/s]"
     ]
    },
    {
     "name": "stdout",
     "output_type": "stream",
     "text": [
      "=====================================================\n",
      "Epoch: 14 / 20\n",
      "\n",
      "Train Cross Entropy Loss: 0.03447036396330054\n",
      "Train KL Loss: 301522.57414801593\n",
      "\n",
      "Test Cross Entropy Loss: 0.17907775938510895\n",
      "Test KL Loss: 1947.7625732421875\n",
      "Test BLEU-4 Score: 1.0\n",
      "\n",
      "\n"
     ]
    },
    {
     "name": "stderr",
     "output_type": "stream",
     "text": [
      "100%|██████████| 1227/1227 [01:51<00:00, 10.98it/s]\n",
      "100%|██████████| 10/10 [00:00<00:00, 316.51it/s]\n",
      "  0%|          | 2/1227 [00:00<01:28, 13.89it/s]"
     ]
    },
    {
     "name": "stdout",
     "output_type": "stream",
     "text": [
      "=====================================================\n",
      "Epoch: 15 / 20\n",
      "\n",
      "Train Cross Entropy Loss: 0.02487293364195401\n",
      "Train KL Loss: 232618.01076109518\n",
      "\n",
      "Test Cross Entropy Loss: 0.16274933516979218\n",
      "Test KL Loss: 2250.348388671875\n",
      "Test BLEU-4 Score: 1.0\n",
      "\n",
      "\n"
     ]
    },
    {
     "name": "stderr",
     "output_type": "stream",
     "text": [
      "100%|██████████| 1227/1227 [01:50<00:00, 11.11it/s]\n",
      "100%|██████████| 10/10 [00:00<00:00, 318.32it/s]\n",
      "  0%|          | 2/1227 [00:00<01:41, 12.09it/s]"
     ]
    },
    {
     "name": "stdout",
     "output_type": "stream",
     "text": [
      "=====================================================\n",
      "Epoch: 16 / 20\n",
      "\n",
      "Train Cross Entropy Loss: 0.020511650764866187\n",
      "Train KL Loss: 227229.60537272037\n",
      "\n",
      "Test Cross Entropy Loss: 0.12054647505283356\n",
      "Test KL Loss: 3371.32666015625\n",
      "Test BLEU-4 Score: 1.0\n",
      "\n",
      "\n"
     ]
    },
    {
     "name": "stderr",
     "output_type": "stream",
     "text": [
      "100%|██████████| 1227/1227 [01:51<00:00, 10.97it/s]\n",
      "100%|██████████| 10/10 [00:00<00:00, 307.11it/s]\n",
      "  0%|          | 2/1227 [00:00<01:42, 11.93it/s]"
     ]
    },
    {
     "name": "stdout",
     "output_type": "stream",
     "text": [
      "=====================================================\n",
      "Epoch: 17 / 20\n",
      "\n",
      "Train Cross Entropy Loss: 0.014768759800642132\n",
      "Train KL Loss: 229109.37019875838\n",
      "\n",
      "Test Cross Entropy Loss: 0.10595454275608063\n",
      "Test KL Loss: 2591.80126953125\n",
      "Test BLEU-4 Score: 1.0\n",
      "\n",
      "\n"
     ]
    },
    {
     "name": "stderr",
     "output_type": "stream",
     "text": [
      "100%|██████████| 1227/1227 [01:50<00:00, 11.10it/s]\n",
      "100%|██████████| 10/10 [00:00<00:00, 316.19it/s]\n",
      "  0%|          | 2/1227 [00:00<01:49, 11.19it/s]"
     ]
    },
    {
     "name": "stdout",
     "output_type": "stream",
     "text": [
      "=====================================================\n",
      "Epoch: 18 / 20\n",
      "\n",
      "Train Cross Entropy Loss: 0.01236524084364917\n",
      "Train KL Loss: 286974.92428928986\n",
      "\n",
      "Test Cross Entropy Loss: 0.08162911981344223\n",
      "Test KL Loss: 3501.729248046875\n",
      "Test BLEU-4 Score: 1.0\n",
      "\n",
      "\n"
     ]
    },
    {
     "name": "stderr",
     "output_type": "stream",
     "text": [
      "100%|██████████| 1227/1227 [01:53<00:00, 10.84it/s]\n",
      "100%|██████████| 10/10 [00:00<00:00, 315.50it/s]\n",
      "  0%|          | 2/1227 [00:00<01:42, 11.98it/s]"
     ]
    },
    {
     "name": "stdout",
     "output_type": "stream",
     "text": [
      "=====================================================\n",
      "Epoch: 19 / 20\n",
      "\n",
      "Train Cross Entropy Loss: 0.010259658841725949\n",
      "Train KL Loss: 330630.84126113646\n",
      "\n",
      "Test Cross Entropy Loss: 0.09209506213665009\n",
      "Test KL Loss: 3839.728271484375\n",
      "Test BLEU-4 Score: 1.0\n",
      "\n",
      "\n"
     ]
    },
    {
     "name": "stderr",
     "output_type": "stream",
     "text": [
      "100%|██████████| 1227/1227 [01:51<00:00, 10.96it/s]\n",
      "100%|██████████| 10/10 [00:00<00:00, 308.16it/s]"
     ]
    },
    {
     "name": "stdout",
     "output_type": "stream",
     "text": [
      "=====================================================\n",
      "Epoch: 20 / 20\n",
      "\n",
      "Train Cross Entropy Loss: 0.009653625063210615\n",
      "Train KL Loss: 315045.04113369406\n",
      "\n",
      "Test Cross Entropy Loss: 0.055579137057065964\n",
      "Test KL Loss: 3017.506591796875\n",
      "Test BLEU-4 Score: 1.0\n",
      "\n",
      "\n"
     ]
    },
    {
     "name": "stderr",
     "output_type": "stream",
     "text": [
      "\n"
     ]
    }
   ],
   "source": [
    "# Encoder & Decoder\n",
    "encoder_25 = EncoderRNN(vocab_size, hidden_size, latent_size, num_conds, cond_size).to(device)\n",
    "decoder_25 = DecoderRNN(latent_size+cond_size, vocab_size).to(device)\n",
    "\n",
    "# Train\n",
    "encoder_25, decoder_25, train_loss_list_25, test_score_list_25 = train(encoder_25, decoder_25,\n",
    "                                                           train_data, train_cond, test_data, test_cond,\n",
    "                                                           kl_anealing_func=get_kl_anealing_func('cyclical', period=10000),\n",
    "                                                           teacher_forcing_ratio=0.25,\n",
    "                                                           num_epochs=num_epochs)"
   ]
  },
  {
   "cell_type": "code",
   "execution_count": null,
   "metadata": {
    "scrolled": false
   },
   "outputs": [
    {
     "name": "stderr",
     "output_type": "stream",
     "text": [
      "100%|██████████| 1227/1227 [01:48<00:00, 11.31it/s]\n",
      "100%|██████████| 10/10 [00:00<00:00, 324.86it/s]\n",
      "  0%|          | 2/1227 [00:00<01:46, 11.53it/s]"
     ]
    },
    {
     "name": "stdout",
     "output_type": "stream",
     "text": [
      "=====================================================\n",
      "Epoch: 1 / 20\n",
      "\n",
      "Train Cross Entropy Loss: 2.4089470976754654\n",
      "Train KL Loss: 21.66898718494917\n",
      "\n",
      "Test Cross Entropy Loss: 16.570415496826172\n",
      "Test KL Loss: 60.777400970458984\n",
      "Test BLEU-4 Score: 0.14470810260043157\n",
      "\n",
      "\n"
     ]
    },
    {
     "name": "stderr",
     "output_type": "stream",
     "text": [
      "100%|██████████| 1227/1227 [01:53<00:00, 10.80it/s]\n",
      "100%|██████████| 10/10 [00:00<00:00, 314.86it/s]\n",
      "  0%|          | 2/1227 [00:00<01:33, 13.05it/s]"
     ]
    },
    {
     "name": "stdout",
     "output_type": "stream",
     "text": [
      "=====================================================\n",
      "Epoch: 2 / 20\n",
      "\n",
      "Train Cross Entropy Loss: 1.3119903259784897\n",
      "Train KL Loss: 272.65956233908577\n",
      "\n",
      "Test Cross Entropy Loss: 12.476791381835938\n",
      "Test KL Loss: 368.546630859375\n",
      "Test BLEU-4 Score: 0.2768408045530575\n",
      "\n",
      "\n"
     ]
    },
    {
     "name": "stderr",
     "output_type": "stream",
     "text": [
      "100%|██████████| 1227/1227 [01:51<00:00, 11.01it/s]\n",
      "100%|██████████| 10/10 [00:00<00:00, 314.48it/s]\n",
      "  0%|          | 2/1227 [00:00<01:41, 12.02it/s]"
     ]
    },
    {
     "name": "stdout",
     "output_type": "stream",
     "text": [
      "=====================================================\n",
      "Epoch: 3 / 20\n",
      "\n",
      "Train Cross Entropy Loss: 0.5790610207586062\n",
      "Train KL Loss: 669.0296185256929\n",
      "\n",
      "Test Cross Entropy Loss: 13.550272941589355\n",
      "Test KL Loss: 513.8779296875\n",
      "Test BLEU-4 Score: 0.4620740188731863\n",
      "\n",
      "\n"
     ]
    },
    {
     "name": "stderr",
     "output_type": "stream",
     "text": [
      "100%|██████████| 1227/1227 [01:50<00:00, 11.15it/s]\n",
      "100%|██████████| 10/10 [00:00<00:00, 321.69it/s]\n",
      "  0%|          | 1/1227 [00:00<02:04,  9.87it/s]"
     ]
    },
    {
     "name": "stdout",
     "output_type": "stream",
     "text": [
      "=====================================================\n",
      "Epoch: 4 / 20\n",
      "\n",
      "Train Cross Entropy Loss: 0.34994948927768\n",
      "Train KL Loss: 1251.3374488413965\n",
      "\n",
      "Test Cross Entropy Loss: 13.2019624710083\n",
      "Test KL Loss: 567.2276611328125\n",
      "Test BLEU-4 Score: 0.41598079182848435\n",
      "\n",
      "\n"
     ]
    },
    {
     "name": "stderr",
     "output_type": "stream",
     "text": [
      "  5%|▌         | 66/1227 [00:05<01:38, 11.74it/s]"
     ]
    }
   ],
   "source": [
    "# Encoder & Decoder\n",
    "encoder_50 = EncoderRNN(vocab_size, hidden_size, latent_size, num_conds, cond_size).to(device)\n",
    "decoder_50 = DecoderRNN(latent_size+cond_size, vocab_size).to(device)\n",
    "\n",
    "# Train\n",
    "encoder_50, decoder_50, train_loss_list_50, test_score_list_50 = train(encoder_50, decoder_50,\n",
    "                                                           train_data, train_cond, test_data, test_cond,\n",
    "                                                           kl_anealing_func=get_kl_anealing_func('cyclical', period=10000),\n",
    "                                                           teacher_forcing_ratio=0.50,\n",
    "                                                           num_epochs=num_epochs)"
   ]
  },
  {
   "cell_type": "code",
   "execution_count": null,
   "metadata": {},
   "outputs": [],
   "source": [
    "# Encoder & Decoder\n",
    "encoder_75 = EncoderRNN(vocab_size, hidden_size, latent_size, num_conds, cond_size).to(device)\n",
    "decoder_75 = DecoderRNN(latent_size+cond_size, vocab_size).to(device)\n",
    "\n",
    "# Train\n",
    "encoder_75, decoder_75, train_loss_list_75, test_score_list_75 = train(encoder_75, decoder_75,\n",
    "                                                           train_data, train_cond, test_data, test_cond,\n",
    "                                                           kl_anealing_func=get_kl_anealing_func('cyclical', period=10000),\n",
    "                                                           teacher_forcing_ratio=0.75,\n",
    "                                                           num_epochs=num_epochs)"
   ]
  },
  {
   "cell_type": "code",
   "execution_count": null,
   "metadata": {},
   "outputs": [],
   "source": [
    "# Encoder & Decoder\n",
    "encoder_100 = EncoderRNN(vocab_size, hidden_size, latent_size, num_conds, cond_size).to(device)\n",
    "decoder_100 = DecoderRNN(latent_size+cond_size, vocab_size).to(device)\n",
    "\n",
    "# Train\n",
    "encoder_100, decoder_100, train_loss_list_100, test_score_list_100 = train(encoder_100, decoder_100,\n",
    "                                                           train_data, train_cond, test_data, test_cond,\n",
    "                                                           kl_anealing_func=get_kl_anealing_func('cyclical', period=10000),\n",
    "                                                           teacher_forcing_ratio=1,\n",
    "                                                           num_epochs=num_epochs)"
   ]
  },
  {
   "cell_type": "code",
   "execution_count": null,
   "metadata": {},
   "outputs": [],
   "source": []
  }
 ],
 "metadata": {
  "kernelspec": {
   "display_name": "Python 3",
   "language": "python",
   "name": "python3"
  }
 },
 "nbformat": 4,
 "nbformat_minor": 4
}
